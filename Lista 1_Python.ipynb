{
 "cells": [
  {
   "cell_type": "code",
   "execution_count": 3,
   "metadata": {},
   "outputs": [
    {
     "name": "stdout",
     "output_type": "stream",
     "text": [
      "Digite a altura:1.70\n",
      "Digite o peso:67\n",
      "IMC: (23.18339100346021,)\n"
     ]
    }
   ],
   "source": [
    "# Exercício 1\n",
    "# Calculando o IMC\n",
    "altura=float(input(\"Digite a altura:\"))\n",
    "peso=float(input(\"Digite o peso:\"))   \n",
    "\n",
    "print(\"IMC:\",(peso/(altura*altura),))          \n"
   ]
  },
  {
   "cell_type": "code",
   "execution_count": 4,
   "metadata": {},
   "outputs": [
    {
     "name": "stdout",
     "output_type": "stream",
     "text": [
      "*\n",
      "**\n",
      "***\n",
      "****\n",
      "*****\n"
     ]
    }
   ],
   "source": [
    "# Exercícios\n",
    "# 1\n",
    "print(\"*\\n**\\n***\\n****\\n*****\")"
   ]
  },
  {
   "cell_type": "code",
   "execution_count": 5,
   "metadata": {},
   "outputs": [
    {
     "name": "stdout",
     "output_type": "stream",
     "text": [
      "x= 2\n",
      "O valor de X+X é 4\n",
      "x= 2\n",
      "5 = 5\n"
     ]
    }
   ],
   "source": [
    "# 2 -O que aparece na janela do console, quando cada uma das instruções abaixo são executadas, para: x = 2 e y = 3? Execute cada uma das linhas abaixos e, se necessário, faça os devidos ajustes no código.\n",
    "# a) print(“x = ” + x);\n",
    "\n",
    "x=2\n",
    "y=3\n",
    "print(\"x=\",+x)\n",
    "\n",
    "# b) print(“O valor de x + x é ” + (x + x));\n",
    "\n",
    "print(\"O valor de X+X é\",+(x+x))\n",
    "\n",
    "# c) print(“x = ”);\n",
    "\n",
    "print(\"x=\",x)\n",
    "\n",
    "# d)print((x + y) + “ = “ + (y + x));\n",
    "\n",
    "print((x+y),\"=\",(y+x))\n"
   ]
  },
  {
   "cell_type": "code",
   "execution_count": 6,
   "metadata": {},
   "outputs": [
    {
     "name": "stdout",
     "output_type": "stream",
     "text": [
      "Digite o nome:gisele\n",
      "Digite o sobrenome:araujo\n",
      "Digite a matricula:1234\n",
      "[ 1234 ] gisele araujo\n"
     ]
    }
   ],
   "source": [
    "# 1.Escreva um programa que leia o nome, o sobrenome e o número de matrícula de um estudante. Em seguida, formate e imprima os dados lidos da seguinte forma: [matrícula] nome sobrenome.\n",
    "\n",
    "nome=str(input(\"Digite o nome:\"))\n",
    "sobrenome=str(input(\"Digite o sobrenome:\"))\n",
    "matricula=int(input(\"Digite a matricula:\"))\n",
    "print(\"[\",(matricula),\"]\",nome,sobrenome)\n",
    "\n"
   ]
  },
  {
   "cell_type": "code",
   "execution_count": 7,
   "metadata": {},
   "outputs": [
    {
     "name": "stdout",
     "output_type": "stream",
     "text": [
      "Digite o 1º número:56\n",
      "Digite o 2º número:78\n",
      "Soma: 134.0\n",
      "Subtração: -22.0\n",
      "Multiplicação: 4368.0\n",
      "Divisão: 0.717948717948718\n"
     ]
    }
   ],
   "source": [
    "# 2. Escreva um programa que solicite do usuário dois números, e imprima o resultado da soma, subtração, multiplicação e divisão.\n",
    "numero_1=float(input(\"Digite o 1º número:\"))\n",
    "numero_2=float(input(\"Digite o 2º número:\"))\n",
    "\n",
    "print(\"Soma:\",numero_1+numero_2)\n",
    "print(\"Subtração:\",numero_1-numero_2)\n",
    "print(\"Multiplicação:\",numero_1*numero_2)\n",
    "print(\"Divisão:\",numero_1/numero_2)"
   ]
  },
  {
   "cell_type": "code",
   "execution_count": 8,
   "metadata": {},
   "outputs": [
    {
     "name": "stdout",
     "output_type": "stream",
     "text": [
      "Digite o raio:56\n",
      "Diametro:112.00\n",
      "Circunferência:351.86\n",
      "Àrea:9852.03\n"
     ]
    }
   ],
   "source": [
    "# 3. Escreva um programa que receba como entrada o raio de um círculo e imprima o diâmetro, a circunferência e a área. Para isso, utilize as fórmulas: diâmetro = 2r; circunferência = 2πr, área = πr².\n",
    "\n",
    "import math\n",
    "raio=float(input(\"Digite o raio:\"))\n",
    "diametro=2*raio\n",
    "circunferencia=2*(math.pi*raio)\n",
    "area=math.pi*(raio**2)\n",
    "\n",
    "print(\"Diametro:{:.2f}\".format(diametro))\n",
    "print(\"Circunferência:{:.2f}\".format(circunferencia))\n",
    "print(\"Àrea:{:.2f}\".format(area))\n"
   ]
  },
  {
   "cell_type": "code",
   "execution_count": 9,
   "metadata": {},
   "outputs": [
    {
     "name": "stdout",
     "output_type": "stream",
     "text": [
      "Digite um número de 5 dígitos: 12345\n",
      "1 2 3 4 5\n"
     ]
    }
   ],
   "source": [
    "# 4 . Escreva um programa que receba como entrada um número de 5 dígitos, separe o número em dígitos individuais e os imprima separados por 3 espaços cada um. Por exemplo, se o usuário digitar 42339, o programa deverá imprimir: 4 2 3 3. Dica: utilize as operações de divisão e módulo para extrair cada dígito do número.\n",
    "\n",
    "numero=float(input(\"Digite um número de 5 dígitos: \"))\n",
    "\n",
    "numero_1=(numero%10)\n",
    "numero_2=(numero%100)/10\n",
    "numero_3=(numero%1000)/100\n",
    "numero_4=(numero%10000)/1000\n",
    "numero_5=(numero%100000)/10000\n",
    "\n",
    "print(int(numero_5), int(numero_4), int(numero_3), int(numero_2), int(numero_1))"
   ]
  },
  {
   "cell_type": "markdown",
   "metadata": {},
   "source": [
    "EXERCÍCIOS"
   ]
  },
  {
   "cell_type": "code",
   "execution_count": 10,
   "metadata": {},
   "outputs": [
    {
     "name": "stdout",
     "output_type": "stream",
     "text": [
      "Digite o primeiro número:56\n",
      "Digite o segundo número:78\n",
      "O número 56 não é múltiplo de 78\n"
     ]
    }
   ],
   "source": [
    "# 1 .Escreva um programa que leia dois números inteiros que determine e verifique se o primeiro é um múltiplo do segundo.\n",
    "#Por exemplo: se o usuário digitar 15 e 3, o primeiro número será múltiplo do segundo; se o usuário digitar 2 e 4,\n",
    "# o primeiro número não será múltiplo do segundo. Dica: use o operador módulo para obter o resto da divisão.\n",
    "\n",
    "numero1=int(input('Digite o primeiro número:'))\n",
    "numero2=int(input('Digite o segundo número:'))\n",
    "if (numero1 % numero2 == 0):\n",
    "    print('O número',numero1,'é múltiplo de',numero2)\n",
    "else:\n",
    "    print('O número',numero1,'não é múltiplo de',numero2)    "
   ]
  },
  {
   "cell_type": "code",
   "execution_count": 11,
   "metadata": {},
   "outputs": [
    {
     "data": {
      "text/plain": [
       "[(0, 0, 0),\n",
       " (1, 1, 1),\n",
       " (2, 4, 8),\n",
       " (3, 9, 27),\n",
       " (4, 16, 64),\n",
       " (5, 25, 125),\n",
       " (6, 36, 216),\n",
       " (7, 49, 343),\n",
       " (8, 64, 512),\n",
       " (9, 81, 729),\n",
       " (10, 100, 1000)]"
      ]
     },
     "execution_count": 11,
     "metadata": {},
     "output_type": "execute_result"
    }
   ],
   "source": [
    "# 2. Escreva um programa que calcule o quadrado e o cubo dos números de 0 a 10, e imprima os valores em forma de tabela. \n",
    "# Número | Quadrado | Cubo\n",
    "\n",
    "[(numero, numero**2, numero**3) for numero in range(11)] \n"
   ]
  },
  {
   "cell_type": "code",
   "execution_count": 12,
   "metadata": {},
   "outputs": [
    {
     "name": "stdout",
     "output_type": "stream",
     "text": [
      "0 0 0\n",
      "1 1 1\n",
      "2 4 8\n",
      "3 9 27\n",
      "4 16 64\n",
      "5 25 125\n",
      "6 36 216\n",
      "7 49 343\n",
      "8 64 512\n",
      "9 81 729\n",
      "10 100 1000\n"
     ]
    }
   ],
   "source": [
    "# 2. Outra forma de fazer\n",
    "\n",
    "numero=range(11)\n",
    "for numero in range(11): \n",
    "    print(numero,numero**2,numero**3)    \n"
   ]
  },
  {
   "cell_type": "code",
   "execution_count": 13,
   "metadata": {},
   "outputs": [
    {
     "name": "stdout",
     "output_type": "stream",
     "text": [
      "Digite o primeiro número:78\n",
      "Digite o segundo número:89\n",
      "Esse número é maior 89\n"
     ]
    }
   ],
   "source": [
    "# 3. Escreva um programa que receba dois números inteiros como entrada e verifica qual deles é o maior.\n",
    "\n",
    "numero1=int(input('Digite o primeiro número:'))\n",
    "numero2=int(input('Digite o segundo número:'))\n",
    "if numero1>numero2:\n",
    "    print('Esse número é o maior',numero1)\n",
    "else:\n",
    "    print('Esse número é o maior',numero2)"
   ]
  },
  {
   "cell_type": "code",
   "execution_count": 14,
   "metadata": {},
   "outputs": [
    {
     "name": "stdout",
     "output_type": "stream",
     "text": [
      "Digite uma letra:h\n",
      "A letra é uma consoante h\n"
     ]
    }
   ],
   "source": [
    "# 4. Escreva um programa que leia apenas uma letra do alfabeto como entrada e classifique-a como vogal ou consoante.\n",
    "# Seu programa deverá aceitar como entrada apenas um caractere, ou seja, se o usuário digitar dois ou mais caracteres,\n",
    "# o sistema deverá informar ao usuário a entrada rejeitada.\n",
    "\n",
    "letra=str(input('Digite uma letra:'))\n",
    "if len(letra)>1:\n",
    "    print('Digite apenas uma letra!')\n",
    "else:\n",
    "    if letra=='a' or letra=='e'or letra=='i' or letra=='o' or letra=='u':\n",
    "        print('A letra é uma vogal') \n",
    "    else:\n",
    "        print('A letra é uma consoante',letra)               \n",
    "        \n",
    "        \n"
   ]
  },
  {
   "cell_type": "markdown",
   "metadata": {},
   "source": [
    "Exercícios"
   ]
  },
  {
   "cell_type": "code",
   "execution_count": 15,
   "metadata": {},
   "outputs": [
    {
     "name": "stdout",
     "output_type": "stream",
     "text": [
      "Digite uma senha de 4 digitos: 5678\n",
      "(14, 15, 12, 13)\n"
     ]
    }
   ],
   "source": [
    "# 1. Uma empresa quer transmitir dados pelo telefone, mas está preocupada com a interceptação telefônica. \n",
    "# Todos os seus dados são transmitidos como inteiros de quatro dígitos.\n",
    "# Ela pediu para que você escreva um programa que criptografe seus dados, para que eles possam ser transmitidos com mais segurança\n",
    "# Seu aplicativo deve ler um inteiro de quatro dígitos fornecidos pelo usuário e criptografá-lo\n",
    "# da seguinte forma: substitua cada dígitos por (a soma desse dígitos mais 7) módulo 10. Em seguida,\n",
    "# troque o primeiro dígito pelo terceiro e troque o segundo dígito pelo quarto e imprima o inteiro criptografado.\n",
    "\n",
    "senha = input(\"Digite uma senha de 4 digitos: \")\n",
    "try:\n",
    "    val = int(senha)\n",
    "    if val <= 999 or val > 9999:\n",
    "        print(\"Número não permitido\")\n",
    "    else:\n",
    "        res = [int(x) for x in str(val)]\n",
    "        resCalc = []\n",
    "        for i in res:\n",
    "            resCalc.append(i+7)\n",
    "        if resCalc:    \n",
    "            resCalc = resCalc[2], resCalc[3], resCalc[0], resCalc[1]  \n",
    "            print(resCalc)\n",
    "except ValueError:\n",
    "    print(\"A senha não é um número inteiro!\")\n",
    "  \n",
    "\n",
    "  \n",
    "        \n"
   ]
  },
  {
   "cell_type": "code",
   "execution_count": 16,
   "metadata": {},
   "outputs": [
    {
     "name": "stdout",
     "output_type": "stream",
     "text": [
      "0 True\n",
      "1 False\n",
      "2 True\n",
      "3 False\n",
      "4 True\n",
      "5 False\n",
      "6 True\n",
      "7 False\n",
      "8 True\n",
      "9 False\n",
      "10 True\n"
     ]
    }
   ],
   "source": [
    "# 2 . Implemente a função par que retorna verdadeiro se um número inteiro passado como parâmetro for par ou falso caso ele seja ímpar.\n",
    "#Teste seu programa chamando a função para verificar os números de 0 à 10.\n",
    "\n",
    "\n",
    "def verifnumero (i):\n",
    "    if i % 2==0:\n",
    "        return True\n",
    "    else:\n",
    "        return False\n",
    "for i in range(11):\n",
    "    print(i,verifnumero(i))\n"
   ]
  },
  {
   "cell_type": "code",
   "execution_count": 17,
   "metadata": {
    "scrolled": true
   },
   "outputs": [
    {
     "name": "stdout",
     "output_type": "stream",
     "text": [
      "Primeiro lado:7\n",
      "Segundo lado:9\n",
      "Terceiro lado:8\n",
      "O Triângulo é escaleno\n"
     ]
    }
   ],
   "source": [
    "# 3. Escreva um programa que leia 3 números inteiros referente ao comprimento dos lados de um triângulo e classifique\n",
    "# como: triângulo equilátero (todos os lados iguais)\n",
    "# isósceles(dois lados iguais)\n",
    "# ou escaleno(todos os lados diferentes).\n",
    "\n",
    "lado1=float(input('Primeiro lado:'))\n",
    "lado2=float(input('Segundo lado:'))\n",
    "lado3=float(input('Terceiro lado:'))  \n",
    "if lado1 < lado2 + lado3 and lado2 < lado1+lado3 and lado3 < lado1+lado2:\n",
    "    if lado1==lado2==lado3:\n",
    "        print('O Triângulo é equilátero')\n",
    "    elif lado1!=lado2!=lado3!=lado1:\n",
    "        print('O Triângulo é escaleno')\n",
    "    else:    \n",
    "        print('O triângulo é isósceles')\n"
   ]
  },
  {
   "cell_type": "code",
   "execution_count": 18,
   "metadata": {},
   "outputs": [
    {
     "name": "stdout",
     "output_type": "stream",
     "text": [
      "0-236-8-859\n"
     ]
    }
   ],
   "source": [
    "# 4- Escreva um programa que aceita um número como entrada e insere hífens (-) entre dois números pares. Por exemplo, \n",
    "#se receber o número 02368859 como entrada, a saída do programa deverá ser: 0-236-8-859.\n",
    "\n",
    "import re\n",
    "\n",
    "def adiciona_separador(matches):\n",
    "    return '-'.join(matches.group(0))\n",
    "\n",
    "numero = re.sub(r'([02468]{2,})', adiciona_separador, '02368859')\n",
    "print(numero)\n"
   ]
  },
  {
   "cell_type": "code",
   "execution_count": 19,
   "metadata": {},
   "outputs": [
    {
     "data": {
      "text/plain": [
       "#    4\n",
       "7    3\n",
       "@    1\n",
       "3    1\n",
       "2    1\n",
       "6    1\n",
       "dtype: int64"
      ]
     },
     "execution_count": 19,
     "metadata": {},
     "output_type": "execute_result"
    }
   ],
   "source": [
    "# 5. Escreva um programa que encontre o item mais frequente de um vetor.\n",
    "# Exemplo: [2, 7, 7, 7, ‘#’, ‘#’, ‘#’, ‘@’, 3, ‘#’, 6] // Saída: # aparece 4 vezes\n",
    "\n",
    "import pandas as pd\n",
    "vetor=[2, 7, 7, 7, '#', '#', '#', '@', 3, '#', 6]\n",
    "\n",
    "contar = pd.Series(vetor).value_counts()\n",
    "contar"
   ]
  },
  {
   "cell_type": "code",
   "execution_count": null,
   "metadata": {},
   "outputs": [],
   "source": [
    "# 6. Um número de Armstrong de 3 dígitos é um inteiro pelo qual a soma dos cubos dos seus dígitos é igual ao seu número. \n",
    "# Por exemplo: o número inteiro 371 é um número de Armstrong, porque 3³ + 7³ + 1³ = 371.\n",
    "# Escreva um programa que verifique se um número de 3 dígitos fornecido como entrada é um número de Armstrong.\n",
    "\n",
    "\n",
    "num = int(input(\"Digite um número: \"))\n",
    "\n",
    "order = len(str(num))\n",
    "sum = 0\n",
    "numero = num\n",
    "while numero > 0:\n",
    "   digit = numero % 10\n",
    "   sum += digit ** order\n",
    "   numero //= 10\n",
    "\n",
    "if num == sum:\n",
    "   print(num,\"É um múmero Armstrong\")\n",
    "else:\n",
    "   print(num,\"Não é um número Armstrong\")"
   ]
  },
  {
   "cell_type": "code",
   "execution_count": null,
   "metadata": {},
   "outputs": [],
   "source": [
    "# 7. Escreva uma função que receba uma string e conte o número de vogais dentro dela, \n",
    "# por exemplo: entrada: ‘Ciência de Dados’, saída: 7 vogais\n",
    "    \n",
    "def contar_vogais(string):\n",
    "    string = string.lower() # maiuscula/minuscula\n",
    "    result = 0\n",
    "    vogais = 'aeêiou'\n",
    "    for i in vogais:\n",
    "        result += string.count(i)\n",
    "    return result\n",
    "\n",
    "print(contar_vogais('Ciência de Dados'),'vogais')\n",
    "\n",
    "\n",
    "    "
   ]
  },
  {
   "cell_type": "code",
   "execution_count": 2,
   "metadata": {},
   "outputs": [
    {
     "data": {
      "text/plain": [
       "3"
      ]
     },
     "execution_count": 2,
     "metadata": {},
     "output_type": "execute_result"
    }
   ],
   "source": [
    "# 8. Implemente em Python o algoritmo de Busca Binária\n",
    "\n",
    "def binary_search(array, target):\n",
    "    lower = 0\n",
    "    upper = len(array)\n",
    "    while lower < upper:  \n",
    "        x = lower + (upper - lower) // 2\n",
    "        val = array[x]\n",
    "        if target == val:\n",
    "            return x\n",
    "        elif target > val:\n",
    "            if lower == x:   \n",
    "                break        \n",
    "            lower = x\n",
    "        elif target < val:\n",
    "            upper = x\n",
    "            \n",
    "binary_search([1,5,8,10], 5)            \n"
   ]
  },
  {
   "cell_type": "code",
   "execution_count": null,
   "metadata": {},
   "outputs": [],
   "source": [
    "# 9. Escreva uma função que receba algum valor como parâmetro e retorne seu tipo\n",
    "\n",
    "\n",
    "from ast import literal_eval\n",
    "\n",
    "def tipo(dado):\n",
    "    try:\n",
    "        return type(literal_eval(dado))\n",
    "    except (ValueError, SyntaxError):\n",
    "         return str\n",
    "\n",
    "    \n",
    "dado=input('Digite um valor:')  \n",
    "tipodedado=tipo(dado)\n",
    "print('O tipo do parâmetro é:',tipodedado)\n"
   ]
  },
  {
   "cell_type": "code",
   "execution_count": null,
   "metadata": {},
   "outputs": [],
   "source": [
    "# 10. Escreva uma função que receba um lista numérica como parâmetro e retorne os segundos maiores e menores números da sequência,\n",
    "# por exemplo: entrada [1, 2, 3, 4, 5, 6, 7, 8, 9], saída [2, 8].\n",
    "\n",
    "def calc_lista(lista,option):\n",
    "    maior = max(lista)\n",
    "    minimo = min(lista)\n",
    "    for i in lista:\n",
    "        if i > minimo and option == 'min':\n",
    "            return i\n",
    "        if i + 1 == maior and option == 'max':\n",
    "            return i\n",
    "\n",
    "lista = [1, 2, 3, 4, 5, 6, 7, 8, 9]\n",
    "\n",
    "print(calc_lista(lista,'min'))\n",
    "print(calc_lista(lista,'max'))\n",
    "\n",
    "\n"
   ]
  },
  {
   "cell_type": "code",
   "execution_count": null,
   "metadata": {},
   "outputs": [],
   "source": [
    "# 11. Escreva uma função que receba um número inteiro como entrada (px.: 32243) e retorne o número invertido (px.: 34223).\n",
    "\n",
    "\n",
    "def inverter(n):\n",
    "    rev=0\n",
    "    dig=0\n",
    "    while(n > 0):\n",
    "        dig = n%10\n",
    "        rev = rev*10 + dig\n",
    "        n = n//10\n",
    "    return rev\n",
    "\n",
    "n=int(input(\"Dígite o número:\"))\n",
    "rev=inverter(n)\n",
    "print(\"O número invertido é\",rev)"
   ]
  },
  {
   "cell_type": "code",
   "execution_count": null,
   "metadata": {},
   "outputs": [],
   "source": []
  },
  {
   "cell_type": "code",
   "execution_count": null,
   "metadata": {},
   "outputs": [],
   "source": []
  }
 ],
 "metadata": {
  "kernelspec": {
   "display_name": "Python 3",
   "language": "python",
   "name": "python3"
  },
  "language_info": {
   "codemirror_mode": {
    "name": "ipython",
    "version": 3
   },
   "file_extension": ".py",
   "mimetype": "text/x-python",
   "name": "python",
   "nbconvert_exporter": "python",
   "pygments_lexer": "ipython3",
   "version": "3.6.5"
  }
 },
 "nbformat": 4,
 "nbformat_minor": 2
}
